{
 "cells": [
  {
   "cell_type": "code",
   "execution_count": 1,
   "id": "d761e9ec",
   "metadata": {},
   "outputs": [
    {
     "name": "stdout",
     "output_type": "stream",
     "text": [
      "Please enter an initial stock level: 600\n",
      "Please enter the number of months to plan: 4\n",
      "Please enter the planned sales quantity for month 1: 300\n",
      "Please enter the planned sales quantity for month 2: 200\n",
      "Please enter the planned sales quantity for month 3: 100\n",
      "Please enter the planned sales quantity for month 4: 300\n",
      "\n",
      "The resulting production quantities are:\n",
      "Production quantity month 1 - 0\n",
      "Production quantity month 2 - 0\n",
      "Production quantity month 3 - 0\n",
      "Production quantity month 4 - 300\n"
     ]
    }
   ],
   "source": [
    "initial_stock_level = int(input(\"Please enter an initial stock level: \"))\n",
    "num_of_months = int(input(\"Please enter the number of months to plan: \"))\n",
    "\n",
    "sales_quantities = []\n",
    "for i in range(num_of_months):\n",
    "    sales_qty = int(input(f\"Please enter the planned sales quantity for month {i+1}: \"))\n",
    "    sales_quantities.append(sales_qty)\n",
    "\n",
    "production_quantities = []\n",
    "previous_month_stock_level = initial_stock_level\n",
    "for sales_qty in sales_quantities:\n",
    "    if sales_qty <= previous_month_stock_level:\n",
    "        production_qty = 0\n",
    "    else:\n",
    "        production_qty = sales_qty - previous_month_stock_level\n",
    "    production_quantities.append(production_qty)\n",
    "    previous_month_stock_level = previous_month_stock_level + production_qty - sales_qty\n",
    "\n",
    "print(\"\\nThe resulting production quantities are:\")\n",
    "for i in range(num_of_months):\n",
    "    print(f\"Production quantity month {i+1} - {production_quantities[i]}\")\n"
   ]
  },
  {
   "cell_type": "code",
   "execution_count": null,
   "id": "64bc77fe",
   "metadata": {},
   "outputs": [],
   "source": []
  }
 ],
 "metadata": {
  "kernelspec": {
   "display_name": "Python 3 (ipykernel)",
   "language": "python",
   "name": "python3"
  },
  "language_info": {
   "codemirror_mode": {
    "name": "ipython",
    "version": 3
   },
   "file_extension": ".py",
   "mimetype": "text/x-python",
   "name": "python",
   "nbconvert_exporter": "python",
   "pygments_lexer": "ipython3",
   "version": "3.9.13"
  }
 },
 "nbformat": 4,
 "nbformat_minor": 5
}
